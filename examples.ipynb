{
 "cells": [
  {
   "cell_type": "markdown",
   "id": "26d27ae2",
   "metadata": {},
   "source": [
    "## Examples of dirichlet_partition"
   ]
  },
  {
   "cell_type": "code",
   "execution_count": 1,
   "id": "029cf87e",
   "metadata": {},
   "outputs": [],
   "source": [
    "import numpy as np\n",
    "from dirichlet import dirichlet_partition"
   ]
  },
  {
   "cell_type": "code",
   "execution_count": 4,
   "id": "ca564f69",
   "metadata": {},
   "outputs": [],
   "source": [
    "# A helper funtion that prints out a summary of a partition\n",
    "def summarize_partition(y,partition):\n",
    "    total_n=0\n",
    "    for k,ixs in partition.items():\n",
    "        _,counts=np.unique(y[ixs],return_counts=True)\n",
    "        proportions=np.array2string(counts/len(ixs),formatter={'float': lambda x: f'{x:.2f}'})\n",
    "        print(f'Client: {k} Counts: {counts} (total: {len(ixs)}) %: {proportions}')\n",
    "        total_n+=len(ixs)\n",
    "        \n",
    "    print(f'Total samples: {total_n}')"
   ]
  },
  {
   "cell_type": "code",
   "execution_count": 7,
   "id": "b63363cb",
   "metadata": {
    "scrolled": true
   },
   "outputs": [
    {
     "name": "stdout",
     "output_type": "stream",
     "text": [
      "Client: 0 Counts: [ 912 1052] (total: 1964) %: [0.46 0.54]\n",
      "Client: 1 Counts: [1043  926] (total: 1969) %: [0.53 0.47]\n",
      "Client: 2 Counts: [ 930 1033] (total: 1963) %: [0.47 0.53]\n",
      "Client: 3 Counts: [ 907 1055] (total: 1962) %: [0.46 0.54]\n",
      "Client: 4 Counts: [1120  846] (total: 1966) %: [0.57 0.43]\n",
      "Total samples: 9824\n"
     ]
    }
   ],
   "source": [
    "# A class balanced y\n",
    "y=np.random.choice([0,1],size=10000,p=[0.5,0.5])\n",
    "\n",
    "# Partitioned among 5 clients/segments with a high alpha\n",
    "partition=dirichlet_partition(y,c_clients=5,alpha=100,debug=True)\n",
    "\n",
    "summarize_partition(y,partition)"
   ]
  },
  {
   "cell_type": "code",
   "execution_count": 8,
   "id": "8fd1990f",
   "metadata": {
    "scrolled": true
   },
   "outputs": [
    {
     "name": "stdout",
     "output_type": "stream",
     "text": [
      "Client: 0 Counts: [231 170] (total: 401) %: [0.58 0.42]\n",
      "Client: 1 Counts: [176 223] (total: 399) %: [0.44 0.56]\n",
      "Client: 2 Counts: [178 214] (total: 392) %: [0.45 0.55]\n",
      "Client: 3 Counts: [199 200] (total: 399) %: [0.50 0.50]\n",
      "Client: 4 Counts: [211 188] (total: 399) %: [0.53 0.47]\n",
      "Total samples: 1990\n"
     ]
    }
   ],
   "source": [
    "# A class unbalanced y\n",
    "y=np.random.choice([0,1],size=10000,p=[0.9,0.1])\n",
    "\n",
    "# Partitioned among 5 clients/segments with a high alpha\n",
    "partition=dirichlet_partition(y,c_clients=5,alpha=100,debug=True)\n",
    "\n",
    "# Note how less total samples are distributed\n",
    "summarize_partition(y,partition)"
   ]
  },
  {
   "cell_type": "code",
   "execution_count": 11,
   "id": "82d62349",
   "metadata": {},
   "outputs": [
    {
     "name": "stdout",
     "output_type": "stream",
     "text": [
      "Client: 0 Counts: [   8 1270] (total: 1278) %: [0.01 0.99]\n",
      "Client: 1 Counts: [  12 1256] (total: 1268) %: [0.01 0.99]\n",
      "Client: 2 Counts: [1213] (total: 1213) %: [1.00]\n",
      "Client: 3 Counts: [4966    8] (total: 4974) %: [1.00 0.00]\n",
      "Client: 4 Counts: [1239] (total: 1239) %: [1.00]\n",
      "Total samples: 9972\n"
     ]
    }
   ],
   "source": [
    "# A class balanced y\n",
    "y=np.random.choice([0,1],size=10000,p=[0.5,0.5])\n",
    "\n",
    "# Partitioned among 5 clients/segments with a low alpha\n",
    "partition=dirichlet_partition(y,c_clients=5,alpha=0.1,debug=True)\n",
    "\n",
    "# Note how low alphas produce unbalanced partitions\n",
    "summarize_partition(y,partition)"
   ]
  },
  {
   "cell_type": "code",
   "execution_count": 12,
   "id": "1df1adf9",
   "metadata": {},
   "outputs": [
    {
     "name": "stdout",
     "output_type": "stream",
     "text": [
      "Client: 0 Counts: [321] (total: 321) %: [1.00]\n",
      "Client: 1 Counts: [516] (total: 516) %: [1.00]\n",
      "Client: 2 Counts: [472  20] (total: 492) %: [0.96 0.04]\n",
      "Client: 3 Counts: [321] (total: 321) %: [1.00]\n",
      "Client: 4 Counts: [326] (total: 326) %: [1.00]\n",
      "Total samples: 1976\n"
     ]
    }
   ],
   "source": [
    "# A class unbalanced y\n",
    "y=np.random.choice([0,1],size=10000,p=[0.1,0.9])\n",
    "\n",
    "# Partitioned among 5 clients/segments with a low alpha\n",
    "partition=dirichlet_partition(y,c_clients=5,alpha=0.1,debug=True)\n",
    "\n",
    "# Note how low alphas produce unbalanced partitions\n",
    "# and that y's baseline unbalance reduces total samples\n",
    "summarize_partition(y,partition)"
   ]
  }
 ],
 "metadata": {
  "kernelspec": {
   "display_name": "Python 3 (ipykernel)",
   "language": "python",
   "name": "python3"
  },
  "language_info": {
   "codemirror_mode": {
    "name": "ipython",
    "version": 3
   },
   "file_extension": ".py",
   "mimetype": "text/x-python",
   "name": "python",
   "nbconvert_exporter": "python",
   "pygments_lexer": "ipython3",
   "version": "3.9.6"
  }
 },
 "nbformat": 4,
 "nbformat_minor": 5
}
